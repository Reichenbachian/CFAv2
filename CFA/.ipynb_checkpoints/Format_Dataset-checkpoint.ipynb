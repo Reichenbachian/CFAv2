{
 "cells": [
  {
   "cell_type": "code",
   "execution_count": 6,
   "metadata": {
    "collapsed": true
   },
   "outputs": [],
   "source": [
    "import os\n",
    "from tqdm import tqdm_notebook as tqdm"
   ]
  },
  {
   "cell_type": "markdown",
   "metadata": {},
   "source": [
    "I'm going to move all the files so the campaign names are consistent."
   ]
  },
  {
   "cell_type": "code",
   "execution_count": 2,
   "metadata": {
    "collapsed": true
   },
   "outputs": [],
   "source": [
    "curves = '/Users/localhost/Desktop/Projects/Working/CFA/visioneering-deeplearning/experiments/planet_discriminator/local_cache/original_k2_data/curves'\n",
    "bls = '/Users/localhost/Desktop/Projects/Working/CFA/visioneering-deeplearning/experiments/planet_discriminator/local_cache/original_k2_data/bls'"
   ]
  },
  {
   "cell_type": "code",
   "execution_count": 9,
   "metadata": {},
   "outputs": [
    {
     "data": {
      "application/vnd.jupyter.widget-view+json": {
       "model_id": "de9db2a9f94a4622843d4c4b7102d687",
       "version_major": 2,
       "version_minor": 0
      },
      "text/plain": [
       "A Jupyter Widget"
      ]
     },
     "metadata": {},
     "output_type": "display_data"
    },
    {
     "name": "stdout",
     "output_type": "stream",
     "text": [
      "\n"
     ]
    }
   ],
   "source": [
    "curve_campaigns = os.listdir(curves)\n",
    "curve_campaigns.remove('.DS_Store')\n",
    "for campaign in tqdm(curve_campaigns):\n",
    "    old_file_name = campaign\n",
    "    new_file_name = campaign[:2].lower()\n",
    "    old_path = os.path.join(curves, old_file_name)\n",
    "    new_path = os.path.join(curves, new_file_name)\n",
    "    os.rename(old_path, new_path)"
   ]
  },
  {
   "cell_type": "code",
   "execution_count": 12,
   "metadata": {},
   "outputs": [
    {
     "data": {
      "application/vnd.jupyter.widget-view+json": {
       "model_id": "28216bb6ccf54f9d8d49707b49157b89",
       "version_major": 2,
       "version_minor": 0
      },
      "text/plain": [
       "A Jupyter Widget"
      ]
     },
     "metadata": {},
     "output_type": "display_data"
    },
    {
     "name": "stdout",
     "output_type": "stream",
     "text": [
      "\n"
     ]
    }
   ],
   "source": [
    "bls_campaigns = os.listdir(bls)\n",
    "bls_campaigns.remove('.DS_Store')\n",
    "for campaign in tqdm(bls_campaigns):\n",
    "    old_file_name = campaign\n",
    "    new_file_name = campaign[:2].lower()\n",
    "    old_path = os.path.join(bls, old_file_name)\n",
    "    new_path = os.path.join(bls, new_file_name)\n",
    "    os.rename(old_path, new_path)"
   ]
  },
  {
   "cell_type": "code",
   "execution_count": null,
   "metadata": {
    "collapsed": true
   },
   "outputs": [],
   "source": []
  }
 ],
 "metadata": {
  "kernelspec": {
   "display_name": "Python 2",
   "language": "python",
   "name": "python2"
  },
  "language_info": {
   "codemirror_mode": {
    "name": "ipython",
    "version": 2
   },
   "file_extension": ".py",
   "mimetype": "text/x-python",
   "name": "python",
   "nbconvert_exporter": "python",
   "pygments_lexer": "ipython2",
   "version": "2.7.10"
  }
 },
 "nbformat": 4,
 "nbformat_minor": 2
}
