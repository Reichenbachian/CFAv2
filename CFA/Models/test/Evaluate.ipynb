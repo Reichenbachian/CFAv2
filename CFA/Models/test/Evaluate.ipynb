{
 "cells": [
  {
   "cell_type": "code",
   "execution_count": 1,
   "metadata": {},
   "outputs": [
    {
     "name": "stderr",
     "output_type": "stream",
     "text": [
      "Using TensorFlow backend.\n"
     ]
    }
   ],
   "source": [
    "import tensorflow\n",
    "import keras\n",
    "from keras.models import model_from_json\n",
    "import matplotlib.pyplot as plt\n",
    "import pandas as pd\n",
    "import os\n",
    "import idlsave\n",
    "import numpy as np\n",
    "from tqdm import tqdm_notebook as tqdm\n",
    "import re\n",
    "from sklearn.metrics import roc_curve, auc\n",
    "from scipy import interp\n",
    "from itertools import cycle\n",
    "import glob\n",
    "import seaborn as sns"
   ]
  },
  {
   "cell_type": "code",
   "execution_count": 2,
   "metadata": {
    "collapsed": true
   },
   "outputs": [],
   "source": [
    "model = model_from_json(open('model.json', 'rb').read())"
   ]
  },
  {
   "cell_type": "code",
   "execution_count": 3,
   "metadata": {
    "collapsed": true
   },
   "outputs": [],
   "source": [
    "root_path = '/Users/localhost/Desktop/Projects/Working/CFA/visioneering-deeplearning/experiments/planet_experiments/local_cache/original_k2_data/'\n",
    "data_path = root_path+'curves/'\n",
    "weights_path = 'weights/'\n",
    "label_path = root_path+'labels/joined_labels.csv'\n",
    "validation_campaigns = root_path+'Validation_Campaigns.csv'\n",
    "example_weights = 'weights/lstm_reattempt_weights.05-0.77.hdf5'\n",
    "roc_curves = 'out/'\n",
    "\n",
    "validation_campaigns = pd.read_csv(validation_campaigns)\n",
    "validation_campaigns = pd.DataFrame({0: ['c0']})\n",
    "labels = pd.read_csv(label_path)\n",
    "del labels['junk']\n",
    "id_from_filepath = re.compile('(?<=ep)[0-9]*(?=search)')"
   ]
  },
  {
   "cell_type": "code",
   "execution_count": 4,
   "metadata": {
    "collapsed": true
   },
   "outputs": [],
   "source": [
    "def plot_roc(tpr,fpr,roc_auc,label, saving_path):\n",
    "    if not os.path.exists(os.path.join(saving_path,'roc_curves')):\n",
    "        os.makedirs(os.path.join(saving_path,'roc_curves'))\n",
    "    plt.figure()    \n",
    "    plt.plot(fpr, tpr, color='darkorange',\n",
    "         lw=2, label='R OC curve (area = %0.2f)' % roc_auc)\n",
    "    plt.plot([0, 1], [0, 1], color='navy', lw=2, linestyle='--')\n",
    "    plt.xlim([0.0, 1.0])\n",
    "    plt.ylim([0.0, 1.05])\n",
    "    plt.xlabel('False Positive Rate')\n",
    "    plt.ylabel('True Positive Rate')\n",
    "    plt.title('Receiver operating characteristic example')\n",
    "    plt.legend(loc=\"lower right\")\n",
    "    plt.savefig(saving_path + 'roc_curves/' + label + '.png')"
   ]
  },
  {
   "cell_type": "code",
   "execution_count": 5,
   "metadata": {
    "collapsed": true
   },
   "outputs": [],
   "source": [
    "def get_n_samples(n):\n",
    "    size = 1360\n",
    "    errors = 0\n",
    "    for campaign in validation_campaigns[0]:\n",
    "        files = [data_path+campaign+'/'+x for x in np.array(os.listdir(data_path+campaign))]\n",
    "        for fs in np.array_split(files, int(len(files)/n)):\n",
    "            X = []\n",
    "            y = []\n",
    "            for f in fs:\n",
    "                try:\n",
    "                    x = idlsave.read(f, verbose=False).k.f[0][:1360]\n",
    "                    assert len(x) == 1360\n",
    "                    p_id = id_from_filepath.findall(f)[0]\n",
    "                    label = labels[labels['planet_id'] == int(p_id)]['label'].tolist()[0].strip()\n",
    "                    y.append([label == 'C', label != 'C'])\n",
    "                    X.append(x.reshape((-1,1)))\n",
    "                except Exception as e:\n",
    "                    errors += 1\n",
    "            yield np.array(X), np.array(y).astype(float)"
   ]
  },
  {
   "cell_type": "code",
   "execution_count": 6,
   "metadata": {
    "collapsed": true
   },
   "outputs": [],
   "source": [
    "n_classes = 2\n",
    "def get_roc(predicted, actual):\n",
    "    # Compute ROC curve and ROC area for each class\n",
    "    fpr = dict()\n",
    "    tpr = dict()\n",
    "    roc_auc = dict()\n",
    "    for i in range(n_classes):\n",
    "        fpr[i], tpr[i], _ = roc_curve(actual[:, i], predicted[:, i])\n",
    "        roc_auc[i] = auc(fpr[i], tpr[i])\n",
    "\n",
    "    # Compute micro-average ROC curve and ROC area\n",
    "    fpr[\"micro\"], tpr[\"micro\"], _ = roc_curve(actual.ravel(), predicted.ravel())\n",
    "    roc_auc[\"micro\"] = auc(fpr[\"micro\"], tpr[\"micro\"])\n",
    "    return tpr, fpr, roc_auc"
   ]
  },
  {
   "cell_type": "code",
   "execution_count": 7,
   "metadata": {
    "collapsed": true
   },
   "outputs": [],
   "source": [
    "def plot_lc(tpr, fpr, roc_auc, title):\n",
    "    # Compute macro-average ROC curve and ROC area\n",
    "    lw = 2\n",
    "    # First aggregate all false positive rates\n",
    "    all_fpr = np.unique(np.concatenate([fpr[i] for i in range(n_classes)]))\n",
    "\n",
    "    # Then interpolate all ROC curves at this points\n",
    "    mean_tpr = np.zeros_like(all_fpr)\n",
    "    for i in range(n_classes):\n",
    "        mean_tpr += interp(all_fpr, fpr[i], tpr[i])\n",
    "\n",
    "    # Finally average it and compute AUC\n",
    "    mean_tpr /= n_classes\n",
    "\n",
    "    fpr[\"macro\"] = all_fpr\n",
    "    tpr[\"macro\"] = mean_tpr\n",
    "    roc_auc[\"macro\"] = auc(fpr[\"macro\"], tpr[\"macro\"])\n",
    "\n",
    "    # Plot all ROC curves\n",
    "    fig = plt.figure()\n",
    "    plt.plot(fpr[\"micro\"], tpr[\"micro\"],\n",
    "             label='micro-average ROC curve (area = {0:0.2f})'\n",
    "                   ''.format(roc_auc[\"micro\"]),\n",
    "             color='deeppink', linestyle=':', linewidth=4)\n",
    "\n",
    "    plt.plot(fpr[\"macro\"], tpr[\"macro\"],\n",
    "             label='macro-average ROC curve (area = {0:0.2f})'\n",
    "                   ''.format(roc_auc[\"macro\"]),\n",
    "             color='navy', linestyle=':', linewidth=4)\n",
    "\n",
    "    colors = cycle(['aqua', 'darkorange', 'cornflowerblue'])\n",
    "    for i, color in zip(range(n_classes), colors):\n",
    "        plt.plot(fpr[i], tpr[i], color=color, lw=2,\n",
    "                 label='ROC curve of class {0} (area = {1:0.2f})'\n",
    "                 ''.format(i, roc_auc[i]))\n",
    "\n",
    "    plt.plot([0, 1], [0, 1], 'k--', lw=2)\n",
    "    plt.xlim([0.0, 1.0])\n",
    "    plt.ylim([0.0, 1.05])\n",
    "    plt.xlabel('False Positive Rate')\n",
    "    plt.ylabel('True Positive Rate')\n",
    "    plt.title(title)\n",
    "    plt.legend(loc=\"lower right\")\n",
    "    fig.savefig(roc_curves+title+'.png')"
   ]
  },
  {
   "cell_type": "code",
   "execution_count": 12,
   "metadata": {
    "scrolled": true
   },
   "outputs": [
    {
     "data": {
      "application/vnd.jupyter.widget-view+json": {
       "model_id": "e060b3dfd733416ca028d948148955b0",
       "version_major": 2,
       "version_minor": 0
      },
      "text/plain": [
       "A Jupyter Widget"
      ]
     },
     "metadata": {},
     "output_type": "display_data"
    },
    {
     "data": {
      "application/vnd.jupyter.widget-view+json": {
       "model_id": "9b5588c9e63b4be5abd44a864bf6062e",
       "version_major": 2,
       "version_minor": 0
      },
      "text/plain": [
       "A Jupyter Widget"
      ]
     },
     "metadata": {},
     "output_type": "display_data"
    },
    {
     "data": {
      "application/vnd.jupyter.widget-view+json": {
       "model_id": "7cd01fe10ef740b3a24b26aacc6d270f",
       "version_major": 2,
       "version_minor": 0
      },
      "text/plain": [
       "A Jupyter Widget"
      ]
     },
     "metadata": {},
     "output_type": "display_data"
    },
    {
     "data": {
      "application/vnd.jupyter.widget-view+json": {
       "model_id": "1550186df868402d8accc4b1bf47edd3",
       "version_major": 2,
       "version_minor": 0
      },
      "text/plain": [
       "A Jupyter Widget"
      ]
     },
     "metadata": {},
     "output_type": "display_data"
    },
    {
     "data": {
      "application/vnd.jupyter.widget-view+json": {
       "model_id": "38eb1889e28f4168bcca9e7f45534bfd",
       "version_major": 2,
       "version_minor": 0
      },
      "text/plain": [
       "A Jupyter Widget"
      ]
     },
     "metadata": {},
     "output_type": "display_data"
    },
    {
     "data": {
      "application/vnd.jupyter.widget-view+json": {
       "model_id": "ae07d80a543d4d15aced5eb0b3a8515b",
       "version_major": 2,
       "version_minor": 0
      },
      "text/plain": [
       "A Jupyter Widget"
      ]
     },
     "metadata": {},
     "output_type": "display_data"
    },
    {
     "data": {
      "application/vnd.jupyter.widget-view+json": {
       "model_id": "41c96217ac7e42988c689d10932fc94b",
       "version_major": 2,
       "version_minor": 0
      },
      "text/plain": [
       "A Jupyter Widget"
      ]
     },
     "metadata": {},
     "output_type": "display_data"
    },
    {
     "data": {
      "application/vnd.jupyter.widget-view+json": {
       "model_id": "6cd539f7813c4b2a9bb390b0c91b3326",
       "version_major": 2,
       "version_minor": 0
      },
      "text/plain": [
       "A Jupyter Widget"
      ]
     },
     "metadata": {},
     "output_type": "display_data"
    },
    {
     "data": {
      "application/vnd.jupyter.widget-view+json": {
       "model_id": "64bdf82e99e740b3b294ba4b1e11a680",
       "version_major": 2,
       "version_minor": 0
      },
      "text/plain": [
       "A Jupyter Widget"
      ]
     },
     "metadata": {},
     "output_type": "display_data"
    },
    {
     "data": {
      "application/vnd.jupyter.widget-view+json": {
       "model_id": "d6cce324e76d4c05a54f34bda8ff7ee3",
       "version_major": 2,
       "version_minor": 0
      },
      "text/plain": [
       "A Jupyter Widget"
      ]
     },
     "metadata": {},
     "output_type": "display_data"
    },
    {
     "data": {
      "application/vnd.jupyter.widget-view+json": {
       "model_id": "3808474233ad404f92b8aec960660d86",
       "version_major": 2,
       "version_minor": 0
      },
      "text/plain": [
       "A Jupyter Widget"
      ]
     },
     "metadata": {},
     "output_type": "display_data"
    },
    {
     "data": {
      "application/vnd.jupyter.widget-view+json": {
       "model_id": "0f0ada1084d6476398d69da446728c3d",
       "version_major": 2,
       "version_minor": 0
      },
      "text/plain": [
       "A Jupyter Widget"
      ]
     },
     "metadata": {},
     "output_type": "display_data"
    },
    {
     "data": {
      "application/vnd.jupyter.widget-view+json": {
       "model_id": "08b64624956843deb11dfd6d2a166ada",
       "version_major": 2,
       "version_minor": 0
      },
      "text/plain": [
       "A Jupyter Widget"
      ]
     },
     "metadata": {},
     "output_type": "display_data"
    },
    {
     "data": {
      "application/vnd.jupyter.widget-view+json": {
       "model_id": "8066e28aba7f4c8da1973433f0e10e73",
       "version_major": 2,
       "version_minor": 0
      },
      "text/plain": [
       "A Jupyter Widget"
      ]
     },
     "metadata": {},
     "output_type": "display_data"
    },
    {
     "data": {
      "application/vnd.jupyter.widget-view+json": {
       "model_id": "f6d10c301f5243d9b978b7f643bae532",
       "version_major": 2,
       "version_minor": 0
      },
      "text/plain": [
       "A Jupyter Widget"
      ]
     },
     "metadata": {},
     "output_type": "display_data"
    },
    {
     "data": {
      "application/vnd.jupyter.widget-view+json": {
       "model_id": "0c24a4ff95554084885de3043b7f73e0",
       "version_major": 2,
       "version_minor": 0
      },
      "text/plain": [
       "A Jupyter Widget"
      ]
     },
     "metadata": {},
     "output_type": "display_data"
    },
    {
     "data": {
      "application/vnd.jupyter.widget-view+json": {
       "model_id": "6c0a0a1da2ac463397b24dda253f6159",
       "version_major": 2,
       "version_minor": 0
      },
      "text/plain": [
       "A Jupyter Widget"
      ]
     },
     "metadata": {},
     "output_type": "display_data"
    },
    {
     "data": {
      "application/vnd.jupyter.widget-view+json": {
       "model_id": "cc5c9dfb7eee47c694eda395eb4d597a",
       "version_major": 2,
       "version_minor": 0
      },
      "text/plain": [
       "A Jupyter Widget"
      ]
     },
     "metadata": {},
     "output_type": "display_data"
    },
    {
     "data": {
      "application/vnd.jupyter.widget-view+json": {
       "model_id": "ab4247ec5a1e4abaacb753f8c335d3e0",
       "version_major": 2,
       "version_minor": 0
      },
      "text/plain": [
       "A Jupyter Widget"
      ]
     },
     "metadata": {},
     "output_type": "display_data"
    },
    {
     "data": {
      "application/vnd.jupyter.widget-view+json": {
       "model_id": "2180013543da477ca5f25df585974db8",
       "version_major": 2,
       "version_minor": 0
      },
      "text/plain": [
       "A Jupyter Widget"
      ]
     },
     "metadata": {},
     "output_type": "display_data"
    },
    {
     "data": {
      "application/vnd.jupyter.widget-view+json": {
       "model_id": "b4a9fd92d6ee4cef9f25998b29866ea0",
       "version_major": 2,
       "version_minor": 0
      },
      "text/plain": [
       "A Jupyter Widget"
      ]
     },
     "metadata": {},
     "output_type": "display_data"
    },
    {
     "name": "stderr",
     "output_type": "stream",
     "text": [
      "/Users/localhost/Desktop/Projects/Working/CFA/venv/lib/python2.7/site-packages/matplotlib/pyplot.py:523: RuntimeWarning: More than 20 figures have been opened. Figures created through the pyplot interface (`matplotlib.pyplot.figure`) are retained until explicitly closed and may consume too much memory. (To control this warning, see the rcParam `figure.max_open_warning`).\n",
      "  max_open_warning, RuntimeWarning)\n"
     ]
    },
    {
     "data": {
      "application/vnd.jupyter.widget-view+json": {
       "model_id": "e2b579bff40d4e81b4b82733eff00a92",
       "version_major": 2,
       "version_minor": 0
      },
      "text/plain": [
       "A Jupyter Widget"
      ]
     },
     "metadata": {},
     "output_type": "display_data"
    },
    {
     "data": {
      "application/vnd.jupyter.widget-view+json": {
       "model_id": "9cb84e7415b04a31a38ca695c600455a",
       "version_major": 2,
       "version_minor": 0
      },
      "text/plain": [
       "A Jupyter Widget"
      ]
     },
     "metadata": {},
     "output_type": "display_data"
    },
    {
     "data": {
      "application/vnd.jupyter.widget-view+json": {
       "model_id": "ac6def3b745d4e469430e375811a8af0",
       "version_major": 2,
       "version_minor": 0
      },
      "text/plain": [
       "A Jupyter Widget"
      ]
     },
     "metadata": {},
     "output_type": "display_data"
    },
    {
     "data": {
      "application/vnd.jupyter.widget-view+json": {
       "model_id": "6f4fdaeb74234572873eeb53b4a9b891",
       "version_major": 2,
       "version_minor": 0
      },
      "text/plain": [
       "A Jupyter Widget"
      ]
     },
     "metadata": {},
     "output_type": "display_data"
    },
    {
     "data": {
      "application/vnd.jupyter.widget-view+json": {
       "model_id": "7f10cdde658b4531b6ff41dca4b79ffd",
       "version_major": 2,
       "version_minor": 0
      },
      "text/plain": [
       "A Jupyter Widget"
      ]
     },
     "metadata": {},
     "output_type": "display_data"
    },
    {
     "data": {
      "application/vnd.jupyter.widget-view+json": {
       "model_id": "6e7c069ecfe04d35891affa753a49772",
       "version_major": 2,
       "version_minor": 0
      },
      "text/plain": [
       "A Jupyter Widget"
      ]
     },
     "metadata": {},
     "output_type": "display_data"
    },
    {
     "data": {
      "application/vnd.jupyter.widget-view+json": {
       "model_id": "fc8936d75624427d82e55abda7935012",
       "version_major": 2,
       "version_minor": 0
      },
      "text/plain": [
       "A Jupyter Widget"
      ]
     },
     "metadata": {},
     "output_type": "display_data"
    },
    {
     "data": {
      "application/vnd.jupyter.widget-view+json": {
       "model_id": "98afa769a0904b78b45a961136de01ce",
       "version_major": 2,
       "version_minor": 0
      },
      "text/plain": [
       "A Jupyter Widget"
      ]
     },
     "metadata": {},
     "output_type": "display_data"
    },
    {
     "data": {
      "application/vnd.jupyter.widget-view+json": {
       "model_id": "d5e10312d4234ae19bae32ae9493e99b",
       "version_major": 2,
       "version_minor": 0
      },
      "text/plain": [
       "A Jupyter Widget"
      ]
     },
     "metadata": {},
     "output_type": "display_data"
    },
    {
     "data": {
      "application/vnd.jupyter.widget-view+json": {
       "model_id": "a7907e8508eb46f280bbe2c1fabfcf5d",
       "version_major": 2,
       "version_minor": 0
      },
      "text/plain": [
       "A Jupyter Widget"
      ]
     },
     "metadata": {},
     "output_type": "display_data"
    },
    {
     "data": {
      "application/vnd.jupyter.widget-view+json": {
       "model_id": "87b1fd0ad49949ce8b7d7b511a07f981",
       "version_major": 2,
       "version_minor": 0
      },
      "text/plain": [
       "A Jupyter Widget"
      ]
     },
     "metadata": {},
     "output_type": "display_data"
    },
    {
     "data": {
      "application/vnd.jupyter.widget-view+json": {
       "model_id": "74d8d39c33b14d5ca24a0aa22aa893f0",
       "version_major": 2,
       "version_minor": 0
      },
      "text/plain": [
       "A Jupyter Widget"
      ]
     },
     "metadata": {},
     "output_type": "display_data"
    },
    {
     "data": {
      "application/vnd.jupyter.widget-view+json": {
       "model_id": "da1c17bb72054b57bfa3e6e33e712690",
       "version_major": 2,
       "version_minor": 0
      },
      "text/plain": [
       "A Jupyter Widget"
      ]
     },
     "metadata": {},
     "output_type": "display_data"
    },
    {
     "data": {
      "application/vnd.jupyter.widget-view+json": {
       "model_id": "fc326ecbb5974e8588815d166c2addb5",
       "version_major": 2,
       "version_minor": 0
      },
      "text/plain": [
       "A Jupyter Widget"
      ]
     },
     "metadata": {},
     "output_type": "display_data"
    },
    {
     "data": {
      "application/vnd.jupyter.widget-view+json": {
       "model_id": "54c0574914404fa4a54510116026e9f8",
       "version_major": 2,
       "version_minor": 0
      },
      "text/plain": [
       "A Jupyter Widget"
      ]
     },
     "metadata": {},
     "output_type": "display_data"
    },
    {
     "data": {
      "application/vnd.jupyter.widget-view+json": {
       "model_id": "c6cbbae8d4b1403f95b793956d48c7d6",
       "version_major": 2,
       "version_minor": 0
      },
      "text/plain": [
       "A Jupyter Widget"
      ]
     },
     "metadata": {},
     "output_type": "display_data"
    },
    {
     "data": {
      "application/vnd.jupyter.widget-view+json": {
       "model_id": "89abe0b3748b4466855a3087518b9bdd",
       "version_major": 2,
       "version_minor": 0
      },
      "text/plain": [
       "A Jupyter Widget"
      ]
     },
     "metadata": {},
     "output_type": "display_data"
    },
    {
     "data": {
      "application/vnd.jupyter.widget-view+json": {
       "model_id": "4b3f9a1b2c2e4d048cf6553ddb65a3f4",
       "version_major": 2,
       "version_minor": 0
      },
      "text/plain": [
       "A Jupyter Widget"
      ]
     },
     "metadata": {},
     "output_type": "display_data"
    },
    {
     "data": {
      "application/vnd.jupyter.widget-view+json": {
       "model_id": "777f133cec6c4d41a2844e28068577ed",
       "version_major": 2,
       "version_minor": 0
      },
      "text/plain": [
       "A Jupyter Widget"
      ]
     },
     "metadata": {},
     "output_type": "display_data"
    },
    {
     "data": {
      "application/vnd.jupyter.widget-view+json": {
       "model_id": "b213720004244a82adba235caad89313",
       "version_major": 2,
       "version_minor": 0
      },
      "text/plain": [
       "A Jupyter Widget"
      ]
     },
     "metadata": {},
     "output_type": "display_data"
    },
    {
     "data": {
      "application/vnd.jupyter.widget-view+json": {
       "model_id": "5c83829041364cafa4a93955d0e892dd",
       "version_major": 2,
       "version_minor": 0
      },
      "text/plain": [
       "A Jupyter Widget"
      ]
     },
     "metadata": {},
     "output_type": "display_data"
    },
    {
     "data": {
      "application/vnd.jupyter.widget-view+json": {
       "model_id": "7fb3ab976c494228a02b3812e77b099a",
       "version_major": 2,
       "version_minor": 0
      },
      "text/plain": [
       "A Jupyter Widget"
      ]
     },
     "metadata": {},
     "output_type": "display_data"
    },
    {
     "data": {
      "application/vnd.jupyter.widget-view+json": {
       "model_id": "13edbf6df1d3468087403927831a1136",
       "version_major": 2,
       "version_minor": 0
      },
      "text/plain": [
       "A Jupyter Widget"
      ]
     },
     "metadata": {},
     "output_type": "display_data"
    },
    {
     "data": {
      "application/vnd.jupyter.widget-view+json": {
       "model_id": "8a80135b1dfd401a990da4d149114b7e",
       "version_major": 2,
       "version_minor": 0
      },
      "text/plain": [
       "A Jupyter Widget"
      ]
     },
     "metadata": {},
     "output_type": "display_data"
    },
    {
     "data": {
      "application/vnd.jupyter.widget-view+json": {
       "model_id": "109ebeff2e75417a9b76160bc2a81300",
       "version_major": 2,
       "version_minor": 0
      },
      "text/plain": [
       "A Jupyter Widget"
      ]
     },
     "metadata": {},
     "output_type": "display_data"
    },
    {
     "data": {
      "application/vnd.jupyter.widget-view+json": {
       "model_id": "5e92419aeba54ccc98ce09dfb767515b",
       "version_major": 2,
       "version_minor": 0
      },
      "text/plain": [
       "A Jupyter Widget"
      ]
     },
     "metadata": {},
     "output_type": "display_data"
    },
    {
     "data": {
      "application/vnd.jupyter.widget-view+json": {
       "model_id": "e2260a5732204522a525b457eabbd6fd",
       "version_major": 2,
       "version_minor": 0
      },
      "text/plain": [
       "A Jupyter Widget"
      ]
     },
     "metadata": {},
     "output_type": "display_data"
    },
    {
     "data": {
      "application/vnd.jupyter.widget-view+json": {
       "model_id": "4b49eb304a1c4dec86c9ea395307eff4",
       "version_major": 2,
       "version_minor": 0
      },
      "text/plain": [
       "A Jupyter Widget"
      ]
     },
     "metadata": {},
     "output_type": "display_data"
    },
    {
     "data": {
      "application/vnd.jupyter.widget-view+json": {
       "model_id": "fa684cdf2d7847f4a65be1bef013d704",
       "version_major": 2,
       "version_minor": 0
      },
      "text/plain": [
       "A Jupyter Widget"
      ]
     },
     "metadata": {},
     "output_type": "display_data"
    },
    {
     "data": {
      "application/vnd.jupyter.widget-view+json": {
       "model_id": "4d79809cc12f4110ad73a3414954feda",
       "version_major": 2,
       "version_minor": 0
      },
      "text/plain": [
       "A Jupyter Widget"
      ]
     },
     "metadata": {},
     "output_type": "display_data"
    },
    {
     "name": "stdout",
     "output_type": "stream",
     "text": [
      "\n"
     ]
    }
   ],
   "source": [
    "for f in tqdm(os.listdir(weights_path)):\n",
    "    model.load_weights(weights_path+f)\n",
    "    predicted = []\n",
    "    actual = []\n",
    "    batch_size = 1000\n",
    "    # Compute predicted in batches\n",
    "    for X, y in tqdm(get_n_samples(batch_size), total=int(len(glob.glob(data_path+'*/*'))/batch_size), leave=False):\n",
    "        predictions = model.predict(X)\n",
    "        predicted.extend(predictions)\n",
    "        actual.extend(y)\n",
    "    tpr, fpr, roc_auc = get_roc(np.array(predicted), np.array(actual))\n",
    "    plot_lc(tpr, fpr, roc_auc, f)"
   ]
  },
  {
   "cell_type": "code",
   "execution_count": 10,
   "metadata": {},
   "outputs": [
    {
     "data": {
      "text/plain": [
       "[array([ 0.47470847,  0.5252915 ], dtype=float32),\n",
       " array([ 0.47498423,  0.52501571], dtype=float32),\n",
       " array([ 0.47490191,  0.52509809], dtype=float32),\n",
       " array([ 0.47433716,  0.52566278], dtype=float32),\n",
       " array([ 0.47494712,  0.52505285], dtype=float32),\n",
       " array([ 0.47499216,  0.52500784], dtype=float32),\n",
       " array([ 0.47492382,  0.52507615], dtype=float32),\n",
       " array([ 0.47471887,  0.52528119], dtype=float32),\n",
       " array([ 0.4743996 ,  0.52560043], dtype=float32),\n",
       " array([ 0.46781263,  0.53218734], dtype=float32),\n",
       " array([ 0.47500026,  0.52499968], dtype=float32),\n",
       " array([ 0.47480476,  0.5251953 ], dtype=float32),\n",
       " array([ 0.47469011,  0.52530992], dtype=float32),\n",
       " array([ 0.47429401,  0.52570599], dtype=float32),\n",
       " array([ 0.47490942,  0.52509052], dtype=float32),\n",
       " array([ 0.47462305,  0.52537692], dtype=float32),\n",
       " array([ 0.47495481,  0.52504528], dtype=float32),\n",
       " array([ 0.47452962,  0.52547044], dtype=float32),\n",
       " array([ 0.47498402,  0.52501601], dtype=float32),\n",
       " array([ 0.47427309,  0.52572697], dtype=float32),\n",
       " array([ 0.47488651,  0.52511346], dtype=float32),\n",
       " array([ 0.47490686,  0.52509308], dtype=float32),\n",
       " array([ 0.47456843,  0.52543151], dtype=float32),\n",
       " array([ 0.47497639,  0.52502364], dtype=float32),\n",
       " array([ 0.47496498,  0.52503502], dtype=float32),\n",
       " array([ 0.4749459,  0.5250541], dtype=float32),\n",
       " array([ 0.47412974,  0.5258702 ], dtype=float32),\n",
       " array([ 0.47499421,  0.52500582], dtype=float32),\n",
       " array([ 0.4145866 ,  0.58541334], dtype=float32),\n",
       " array([ 0.47489524,  0.52510476], dtype=float32),\n",
       " array([ 0.47492182,  0.52507824], dtype=float32),\n",
       " array([ 0.47368941,  0.52631062], dtype=float32),\n",
       " array([ 0.47490069,  0.52509934], dtype=float32),\n",
       " array([ 0.47482881,  0.52517122], dtype=float32),\n",
       " array([ 0.47495195,  0.52504802], dtype=float32),\n",
       " array([ 0.47493219,  0.52506787], dtype=float32),\n",
       " array([ 0.47483596,  0.52516407], dtype=float32),\n",
       " array([ 0.4748176 ,  0.52518237], dtype=float32),\n",
       " array([ 0.46890408,  0.53109592], dtype=float32),\n",
       " array([ 0.47495526,  0.5250448 ], dtype=float32),\n",
       " array([ 0.47493881,  0.52506113], dtype=float32),\n",
       " array([ 0.46913362,  0.53086644], dtype=float32),\n",
       " array([ 0.47492987,  0.52507013], dtype=float32),\n",
       " array([ 0.47496694,  0.52503312], dtype=float32),\n",
       " array([ 0.47494322,  0.52505678], dtype=float32),\n",
       " array([ 0.47471419,  0.52528578], dtype=float32),\n",
       " array([ 0.47324657,  0.52675343], dtype=float32),\n",
       " array([ 0.47541746,  0.52458256], dtype=float32),\n",
       " array([ 0.47495499,  0.52504504], dtype=float32),\n",
       " array([ 0.47463751,  0.52536249], dtype=float32),\n",
       " array([ 0.47459075,  0.52540928], dtype=float32),\n",
       " array([ 0.47486466,  0.5251354 ], dtype=float32),\n",
       " array([ 0.39806464,  0.60193533], dtype=float32),\n",
       " array([ 0.4748511 ,  0.52514893], dtype=float32),\n",
       " array([ 0.44331461,  0.55668539], dtype=float32),\n",
       " array([ 0.47497815,  0.52502179], dtype=float32),\n",
       " array([ 0.47490555,  0.52509445], dtype=float32),\n",
       " array([ 0.4748494,  0.5251506], dtype=float32),\n",
       " array([ 0.47503954,  0.52496046], dtype=float32),\n",
       " array([ 0.47457772,  0.52542228], dtype=float32),\n",
       " array([ 0.4733614 ,  0.52663857], dtype=float32),\n",
       " array([ 0.47498259,  0.52501738], dtype=float32),\n",
       " array([ 0.47489303,  0.52510697], dtype=float32),\n",
       " array([ 0.47487953,  0.5251205 ], dtype=float32),\n",
       " array([ 0.47485989,  0.52514011], dtype=float32),\n",
       " array([ 0.47469711,  0.52530283], dtype=float32),\n",
       " array([ 0.47464848,  0.52535158], dtype=float32),\n",
       " array([ 0.47493383,  0.5250662 ], dtype=float32),\n",
       " array([ 0.47492725,  0.52507269], dtype=float32),\n",
       " array([ 0.47472909,  0.52527082], dtype=float32),\n",
       " array([ 0.47487205,  0.52512795], dtype=float32),\n",
       " array([ 0.47453645,  0.52546358], dtype=float32),\n",
       " array([ 0.47494891,  0.52505112], dtype=float32),\n",
       " array([ 0.47492737,  0.52507263], dtype=float32),\n",
       " array([ 0.47476509,  0.52523494], dtype=float32),\n",
       " array([ 0.4748522 ,  0.52514786], dtype=float32),\n",
       " array([ 0.47491992,  0.52508008], dtype=float32),\n",
       " array([ 0.47458535,  0.52541465], dtype=float32),\n",
       " array([ 0.47481164,  0.52518833], dtype=float32),\n",
       " array([ 0.47506604,  0.52493399], dtype=float32),\n",
       " array([ 0.47496983,  0.5250302 ], dtype=float32),\n",
       " array([ 0.47513443,  0.52486557], dtype=float32),\n",
       " array([ 0.47478265,  0.52521729], dtype=float32),\n",
       " array([ 0.47514164,  0.52485836], dtype=float32),\n",
       " array([ 0.47382757,  0.5261724 ], dtype=float32),\n",
       " array([ 0.47498313,  0.5250169 ], dtype=float32),\n",
       " array([ 0.474879  ,  0.52512097], dtype=float32),\n",
       " array([ 0.47390965,  0.52609032], dtype=float32),\n",
       " array([ 0.47479254,  0.52520746], dtype=float32),\n",
       " array([ 0.46720707,  0.53279293], dtype=float32),\n",
       " array([ 0.44033453,  0.55966544], dtype=float32),\n",
       " array([ 0.47339249,  0.52660751], dtype=float32),\n",
       " array([ 0.4749476 ,  0.52505237], dtype=float32),\n",
       " array([ 0.4749853,  0.5250147], dtype=float32),\n",
       " array([ 0.47471833,  0.52528173], dtype=float32),\n",
       " array([ 0.47489694,  0.52510309], dtype=float32),\n",
       " array([ 0.47482696,  0.52517307], dtype=float32),\n",
       " array([ 0.47487807,  0.52512199], dtype=float32),\n",
       " array([ 0.47507665,  0.52492332], dtype=float32),\n",
       " array([ 0.47480074,  0.52519923], dtype=float32),\n",
       " array([ 0.47496101,  0.52503896], dtype=float32),\n",
       " array([ 0.47459975,  0.52540022], dtype=float32),\n",
       " array([ 0.47501656,  0.52498347], dtype=float32),\n",
       " array([ 0.47483727,  0.52516282], dtype=float32),\n",
       " array([ 0.47472662,  0.52527344], dtype=float32),\n",
       " array([ 0.47525743,  0.5247426 ], dtype=float32),\n",
       " array([ 0.47447845,  0.52552152], dtype=float32),\n",
       " array([ 0.47499734,  0.5250026 ], dtype=float32),\n",
       " array([ 0.47503716,  0.5249629 ], dtype=float32),\n",
       " array([ 0.47469074,  0.52530926], dtype=float32),\n",
       " array([ 0.47468027,  0.52531976], dtype=float32),\n",
       " array([ 0.4745301 ,  0.52546984], dtype=float32),\n",
       " array([ 0.4748081,  0.5251919], dtype=float32),\n",
       " array([ 0.47494775,  0.52505219], dtype=float32),\n",
       " array([ 0.47512695,  0.52487308], dtype=float32),\n",
       " array([ 0.4748559,  0.5251441], dtype=float32),\n",
       " array([ 0.47435895,  0.52564108], dtype=float32),\n",
       " array([ 0.47477475,  0.52522528], dtype=float32),\n",
       " array([ 0.47467813,  0.52532184], dtype=float32),\n",
       " array([ 0.47486135,  0.52513862], dtype=float32),\n",
       " array([ 0.4750157 ,  0.52498424], dtype=float32),\n",
       " array([ 0.47481689,  0.5251832 ], dtype=float32),\n",
       " array([ 0.47524235,  0.52475756], dtype=float32),\n",
       " array([ 0.47460991,  0.52539009], dtype=float32),\n",
       " array([ 0.47493893,  0.52506107], dtype=float32),\n",
       " array([ 0.47467107,  0.52532893], dtype=float32),\n",
       " array([ 0.47511464,  0.5248853 ], dtype=float32),\n",
       " array([ 0.47510895,  0.52489102], dtype=float32),\n",
       " array([ 0.4752498 ,  0.52475017], dtype=float32),\n",
       " array([ 0.47524506,  0.52475488], dtype=float32),\n",
       " array([ 0.47498167,  0.52501827], dtype=float32),\n",
       " array([ 0.47147468,  0.52852529], dtype=float32),\n",
       " array([ 0.4749853,  0.5250147], dtype=float32),\n",
       " array([ 0.47486353,  0.52513647], dtype=float32),\n",
       " array([ 0.47545689,  0.52454305], dtype=float32),\n",
       " array([ 0.47501299,  0.52498704], dtype=float32),\n",
       " array([ 0.47452384,  0.52547616], dtype=float32),\n",
       " array([ 0.47434497,  0.52565503], dtype=float32),\n",
       " array([ 0.47472087,  0.52527916], dtype=float32),\n",
       " array([ 0.4748725 ,  0.52512747], dtype=float32),\n",
       " array([ 0.47501165,  0.52498841], dtype=float32),\n",
       " array([ 0.47429621,  0.52570379], dtype=float32),\n",
       " array([ 0.47306666,  0.52693331], dtype=float32),\n",
       " array([ 0.47491905,  0.52508098], dtype=float32),\n",
       " array([ 0.47491801,  0.52508193], dtype=float32),\n",
       " array([ 0.47429177,  0.5257082 ], dtype=float32),\n",
       " array([ 0.47507221,  0.52492779], dtype=float32),\n",
       " array([ 0.47499353,  0.52500653], dtype=float32),\n",
       " array([ 0.47494775,  0.52505225], dtype=float32),\n",
       " array([ 0.47497332,  0.52502668], dtype=float32),\n",
       " array([ 0.47485593,  0.5251441 ], dtype=float32),\n",
       " array([ 0.47328898,  0.52671105], dtype=float32),\n",
       " array([ 0.47487339,  0.52512658], dtype=float32),\n",
       " array([ 0.47492075,  0.52507931], dtype=float32),\n",
       " array([ 0.47486293,  0.52513707], dtype=float32),\n",
       " array([ 0.47573003,  0.52427   ], dtype=float32),\n",
       " array([ 0.46783003,  0.53217   ], dtype=float32),\n",
       " array([ 0.4731085 ,  0.52689153], dtype=float32),\n",
       " array([ 0.43976247,  0.56023753], dtype=float32),\n",
       " array([ 0.47486648,  0.52513355], dtype=float32),\n",
       " array([ 0.47418904,  0.52581096], dtype=float32),\n",
       " array([ 0.47483945,  0.52516055], dtype=float32),\n",
       " array([ 0.47497374,  0.52502626], dtype=float32),\n",
       " array([ 0.4750815,  0.5249185], dtype=float32),\n",
       " array([ 0.47331351,  0.52668655], dtype=float32),\n",
       " array([ 0.47492275,  0.52507728], dtype=float32),\n",
       " array([ 0.47502479,  0.52497518], dtype=float32),\n",
       " array([ 0.47435114,  0.52564889], dtype=float32),\n",
       " array([ 0.47401091,  0.52598912], dtype=float32),\n",
       " array([ 0.47495714,  0.52504283], dtype=float32),\n",
       " array([ 0.47427848,  0.52572149], dtype=float32),\n",
       " array([ 0.4749392 ,  0.52506077], dtype=float32),\n",
       " array([ 0.4748767 ,  0.52512336], dtype=float32),\n",
       " array([ 0.47499025,  0.52500975], dtype=float32),\n",
       " array([ 0.47500333,  0.52499664], dtype=float32),\n",
       " array([ 0.47146243,  0.52853751], dtype=float32),\n",
       " array([ 0.47492436,  0.52507561], dtype=float32),\n",
       " array([ 0.47509742,  0.52490252], dtype=float32),\n",
       " array([ 0.47491765,  0.52508241], dtype=float32),\n",
       " array([ 0.47485703,  0.52514303], dtype=float32),\n",
       " array([ 0.47503135,  0.52496868], dtype=float32),\n",
       " array([ 0.47459605,  0.52540398], dtype=float32),\n",
       " array([ 0.47486335,  0.52513665], dtype=float32),\n",
       " array([ 0.47500312,  0.52499694], dtype=float32),\n",
       " array([ 0.47475484,  0.52524519], dtype=float32),\n",
       " array([ 0.47488719,  0.52511281], dtype=float32),\n",
       " array([ 0.47487542,  0.52512461], dtype=float32),\n",
       " array([ 0.47481784,  0.52518213], dtype=float32),\n",
       " array([ 0.47501615,  0.52498382], dtype=float32),\n",
       " array([ 0.47491187,  0.52508813], dtype=float32),\n",
       " array([ 0.47495627,  0.52504373], dtype=float32),\n",
       " array([ 0.47470534,  0.52529472], dtype=float32),\n",
       " array([ 0.47159931,  0.52840066], dtype=float32),\n",
       " array([ 0.47484457,  0.52515543], dtype=float32),\n",
       " array([ 0.47492346,  0.52507651], dtype=float32),\n",
       " array([ 0.47139335,  0.52860671], dtype=float32),\n",
       " array([ 0.47189301,  0.52810693], dtype=float32),\n",
       " array([ 0.474942  ,  0.52505809], dtype=float32),\n",
       " array([ 0.47496805,  0.52503198], dtype=float32),\n",
       " array([ 0.47495022,  0.52504969], dtype=float32),\n",
       " array([ 0.47492886,  0.5250712 ], dtype=float32),\n",
       " array([ 0.4749096,  0.5250904], dtype=float32),\n",
       " array([ 0.47333539,  0.52666461], dtype=float32),\n",
       " array([ 0.4714928 ,  0.52850723], dtype=float32),\n",
       " array([ 0.47493911,  0.52506089], dtype=float32),\n",
       " array([ 0.47350761,  0.52649236], dtype=float32),\n",
       " array([ 0.47495806,  0.52504194], dtype=float32),\n",
       " array([ 0.47490993,  0.5250901 ], dtype=float32),\n",
       " array([ 0.47500187,  0.52499807], dtype=float32),\n",
       " array([ 0.47142011,  0.52857995], dtype=float32),\n",
       " array([ 0.47496089,  0.52503908], dtype=float32),\n",
       " array([ 0.47490263,  0.52509731], dtype=float32),\n",
       " array([ 0.47503385,  0.52496618], dtype=float32),\n",
       " array([ 0.47499341,  0.52500659], dtype=float32),\n",
       " array([ 0.47497845,  0.52502155], dtype=float32),\n",
       " array([ 0.47463566,  0.5253644 ], dtype=float32),\n",
       " array([ 0.47145128,  0.52854872], dtype=float32),\n",
       " array([ 0.47369799,  0.52630204], dtype=float32),\n",
       " array([ 0.47497082,  0.52502918], dtype=float32),\n",
       " array([ 0.47436222,  0.52563787], dtype=float32),\n",
       " array([ 0.47490993,  0.5250901 ], dtype=float32),\n",
       " array([ 0.47144684,  0.52855307], dtype=float32),\n",
       " array([ 0.47486326,  0.52513671], dtype=float32),\n",
       " array([ 0.47488093,  0.52511907], dtype=float32),\n",
       " array([ 0.47492298,  0.52507699], dtype=float32),\n",
       " array([ 0.47494921,  0.52505082], dtype=float32),\n",
       " array([ 0.47492728,  0.52507269], dtype=float32),\n",
       " array([ 0.47501197,  0.52498806], dtype=float32),\n",
       " array([ 0.47466892,  0.52533108], dtype=float32),\n",
       " array([ 0.47499639,  0.52500367], dtype=float32),\n",
       " array([ 0.4749282 ,  0.52507186], dtype=float32),\n",
       " array([ 0.47492304,  0.52507699], dtype=float32),\n",
       " array([ 0.47491956,  0.5250805 ], dtype=float32),\n",
       " array([ 0.47487205,  0.52512795], dtype=float32),\n",
       " array([ 0.4748095 ,  0.52519047], dtype=float32),\n",
       " array([ 0.47491145,  0.52508855], dtype=float32),\n",
       " array([ 0.47499353,  0.52500653], dtype=float32),\n",
       " array([ 0.47500229,  0.52499771], dtype=float32),\n",
       " array([ 0.47494045,  0.52505952], dtype=float32),\n",
       " array([ 0.47502655,  0.52497345], dtype=float32),\n",
       " array([ 0.47491726,  0.52508271], dtype=float32),\n",
       " array([ 0.47478426,  0.5252158 ], dtype=float32),\n",
       " array([ 0.47496402,  0.52503592], dtype=float32),\n",
       " array([ 0.46329355,  0.53670639], dtype=float32),\n",
       " array([ 0.47499532,  0.52500468], dtype=float32),\n",
       " array([ 0.47220668,  0.52779329], dtype=float32),\n",
       " array([ 0.48029763,  0.51970232], dtype=float32),\n",
       " array([ 0.47324067,  0.52675933], dtype=float32),\n",
       " array([ 0.47306135,  0.52693868], dtype=float32),\n",
       " array([ 0.4705303 ,  0.52946967], dtype=float32),\n",
       " array([ 0.47084972,  0.52915031], dtype=float32),\n",
       " array([ 0.4741953,  0.5258047], dtype=float32),\n",
       " array([ 0.46851146,  0.53148854], dtype=float32),\n",
       " array([ 0.46979919,  0.53020078], dtype=float32),\n",
       " array([ 0.46961963,  0.53038037], dtype=float32),\n",
       " array([ 0.47048894,  0.52951109], dtype=float32),\n",
       " array([ 0.45200995,  0.54799008], dtype=float32),\n",
       " array([ 0.46885931,  0.53114069], dtype=float32),\n",
       " array([ 0.47029847,  0.52970147], dtype=float32),\n",
       " array([ 0.46709186,  0.53290814], dtype=float32),\n",
       " array([ 0.4736923,  0.5263077], dtype=float32),\n",
       " array([ 0.46620354,  0.53379643], dtype=float32),\n",
       " array([ 0.47520086,  0.52479911], dtype=float32),\n",
       " array([ 0.46712464,  0.53287536], dtype=float32),\n",
       " array([ 0.47102663,  0.5289734 ], dtype=float32),\n",
       " array([ 0.46501884,  0.53498113], dtype=float32),\n",
       " array([ 0.4716512,  0.5283488], dtype=float32),\n",
       " array([ 0.46723557,  0.53276449], dtype=float32),\n",
       " array([ 0.46594426,  0.53405577], dtype=float32),\n",
       " array([ 0.44573468,  0.55426532], dtype=float32),\n",
       " array([ 0.45254087,  0.54745913], dtype=float32),\n",
       " array([ 0.46532947,  0.53467047], dtype=float32),\n",
       " array([ 0.46751598,  0.53248405], dtype=float32),\n",
       " array([ 0.4658877 ,  0.53411227], dtype=float32),\n",
       " array([ 0.46478921,  0.53521079], dtype=float32),\n",
       " array([ 0.47193938,  0.52806067], dtype=float32),\n",
       " array([ 0.46814585,  0.53185415], dtype=float32),\n",
       " array([ 0.4718011,  0.5281989], dtype=float32),\n",
       " array([ 0.46869719,  0.53130287], dtype=float32),\n",
       " array([ 0.46708438,  0.53291559], dtype=float32),\n",
       " array([ 0.47120047,  0.52879953], dtype=float32),\n",
       " array([ 0.45827943,  0.54172063], dtype=float32),\n",
       " array([ 0.47295129,  0.52704877], dtype=float32),\n",
       " array([ 0.46794656,  0.53205341], dtype=float32),\n",
       " array([ 0.46789747,  0.53210247], dtype=float32),\n",
       " array([ 0.44472128,  0.55527872], dtype=float32),\n",
       " array([ 0.45992541,  0.54007459], dtype=float32),\n",
       " array([ 0.46930507,  0.5306949 ], dtype=float32),\n",
       " array([ 0.468099,  0.531901], dtype=float32),\n",
       " array([ 0.46883675,  0.53116333], dtype=float32),\n",
       " array([ 0.46713132,  0.53286868], dtype=float32),\n",
       " array([ 0.47086889,  0.52913105], dtype=float32),\n",
       " array([ 0.46304387,  0.53695613], dtype=float32),\n",
       " array([ 0.38407677,  0.61592323], dtype=float32),\n",
       " array([ 0.29462489,  0.70537513], dtype=float32),\n",
       " array([ 0.47344002,  0.52655995], dtype=float32),\n",
       " array([ 0.47407368,  0.52592635], dtype=float32),\n",
       " array([ 0.47264841,  0.52735168], dtype=float32),\n",
       " array([ 0.46734378,  0.53265625], dtype=float32),\n",
       " array([ 0.46906877,  0.53093129], dtype=float32),\n",
       " array([ 0.47462803,  0.52537197], dtype=float32),\n",
       " array([ 0.46779153,  0.5322085 ], dtype=float32),\n",
       " array([ 0.4723286,  0.5276714], dtype=float32),\n",
       " array([ 0.4699035 ,  0.53009647], dtype=float32),\n",
       " array([ 0.47464535,  0.52535468], dtype=float32),\n",
       " array([ 0.47484392,  0.52515614], dtype=float32),\n",
       " array([ 0.47485238,  0.52514768], dtype=float32),\n",
       " array([ 0.47442001,  0.52557999], dtype=float32),\n",
       " array([ 0.47454453,  0.52545542], dtype=float32),\n",
       " array([ 0.4727636 ,  0.52723646], dtype=float32),\n",
       " array([ 0.47504947,  0.52495056], dtype=float32),\n",
       " array([ 0.47494936,  0.52505064], dtype=float32),\n",
       " array([ 0.47504938,  0.52495062], dtype=float32),\n",
       " array([ 0.47472927,  0.52527076], dtype=float32),\n",
       " array([ 0.47485012,  0.52514988], dtype=float32),\n",
       " array([ 0.47503898,  0.52496105], dtype=float32),\n",
       " array([ 0.47501081,  0.52498913], dtype=float32),\n",
       " array([ 0.47457936,  0.52542067], dtype=float32),\n",
       " array([ 0.47480938,  0.52519059], dtype=float32),\n",
       " array([ 0.47484887,  0.52515107], dtype=float32),\n",
       " array([ 0.46151996,  0.53847998], dtype=float32),\n",
       " array([ 0.47494388,  0.52505612], dtype=float32),\n",
       " array([ 0.47502753,  0.52497244], dtype=float32),\n",
       " array([ 0.4745146,  0.5254854], dtype=float32),\n",
       " array([ 0.47440991,  0.52559006], dtype=float32),\n",
       " array([ 0.47073305,  0.52926695], dtype=float32),\n",
       " array([ 0.47425163,  0.52574837], dtype=float32),\n",
       " array([ 0.47656173,  0.52343827], dtype=float32),\n",
       " array([ 0.47500503,  0.52499491], dtype=float32),\n",
       " array([ 0.47488102,  0.52511901], dtype=float32),\n",
       " array([ 0.4516395 ,  0.54836053], dtype=float32),\n",
       " array([ 0.47536084,  0.52463919], dtype=float32),\n",
       " array([ 0.47517887,  0.5248211 ], dtype=float32),\n",
       " array([ 0.47468665,  0.52531332], dtype=float32),\n",
       " array([ 0.47492614,  0.52507389], dtype=float32),\n",
       " array([ 0.47483668,  0.52516329], dtype=float32),\n",
       " array([ 0.47495908,  0.52504098], dtype=float32),\n",
       " array([ 0.47489667,  0.52510327], dtype=float32),\n",
       " array([ 0.47231507,  0.52768493], dtype=float32),\n",
       " array([ 0.47490248,  0.52509749], dtype=float32),\n",
       " array([ 0.47415721,  0.52584273], dtype=float32),\n",
       " array([ 0.47456571,  0.52543426], dtype=float32),\n",
       " array([ 0.47495553,  0.5250445 ], dtype=float32),\n",
       " array([ 0.47495764,  0.5250423 ], dtype=float32),\n",
       " array([ 0.47480696,  0.52519304], dtype=float32),\n",
       " array([ 0.47461155,  0.52538842], dtype=float32),\n",
       " array([ 0.47498345,  0.52501661], dtype=float32),\n",
       " array([ 0.47484544,  0.52515459], dtype=float32),\n",
       " array([ 0.47471827,  0.52528173], dtype=float32),\n",
       " array([ 0.47476494,  0.52523506], dtype=float32),\n",
       " array([ 0.47466847,  0.52533156], dtype=float32),\n",
       " array([ 0.47419083,  0.52580917], dtype=float32),\n",
       " array([ 0.47491506,  0.52508485], dtype=float32),\n",
       " array([ 0.47491825,  0.52508175], dtype=float32),\n",
       " array([ 0.47478852,  0.52521145], dtype=float32),\n",
       " array([ 0.47473547,  0.52526444], dtype=float32),\n",
       " array([ 0.47502047,  0.52497953], dtype=float32),\n",
       " array([ 0.47494522,  0.52505487], dtype=float32),\n",
       " array([ 0.47491881,  0.52508116], dtype=float32),\n",
       " array([ 0.47496083,  0.5250392 ], dtype=float32),\n",
       " array([ 0.47493169,  0.52506834], dtype=float32),\n",
       " array([ 0.47315618,  0.52684385], dtype=float32),\n",
       " array([ 0.46586269,  0.53413731], dtype=float32),\n",
       " array([ 0.47491226,  0.52508771], dtype=float32),\n",
       " array([ 0.47496098,  0.52503908], dtype=float32),\n",
       " array([ 0.47503328,  0.52496666], dtype=float32),\n",
       " array([ 0.47495925,  0.52504069], dtype=float32),\n",
       " array([ 0.47486532,  0.52513474], dtype=float32),\n",
       " array([ 0.4689548,  0.5310452], dtype=float32),\n",
       " array([ 0.47487074,  0.5251292 ], dtype=float32),\n",
       " array([ 0.474944  ,  0.52505594], dtype=float32),\n",
       " array([ 0.4748897 ,  0.52511024], dtype=float32),\n",
       " array([ 0.47498462,  0.52501541], dtype=float32),\n",
       " array([ 0.47496304,  0.52503687], dtype=float32),\n",
       " array([ 0.47424552,  0.52575445], dtype=float32),\n",
       " array([ 0.47492063,  0.52507937], dtype=float32),\n",
       " array([ 0.47472009,  0.52527988], dtype=float32),\n",
       " array([ 0.47495025,  0.52504975], dtype=float32),\n",
       " array([ 0.47478631,  0.5252136 ], dtype=float32),\n",
       " array([ 0.47493175,  0.52506834], dtype=float32),\n",
       " array([ 0.47499636,  0.52500367], dtype=float32),\n",
       " array([ 0.474944,  0.525056], dtype=float32),\n",
       " array([ 0.47393322,  0.52606684], dtype=float32),\n",
       " array([ 0.47484615,  0.52515376], dtype=float32),\n",
       " array([ 0.46718672,  0.53281325], dtype=float32),\n",
       " array([ 0.47496137,  0.52503866], dtype=float32),\n",
       " array([ 0.47500488,  0.52499509], dtype=float32),\n",
       " array([ 0.47490111,  0.52509898], dtype=float32),\n",
       " array([ 0.47503376,  0.52496624], dtype=float32),\n",
       " array([ 0.4748953 ,  0.52510464], dtype=float32),\n",
       " array([ 0.47491732,  0.52508271], dtype=float32),\n",
       " array([ 0.47495252,  0.52504754], dtype=float32),\n",
       " array([ 0.4697223 ,  0.53027773], dtype=float32),\n",
       " array([ 0.47494274,  0.52505726], dtype=float32),\n",
       " array([ 0.47428867,  0.52571136], dtype=float32),\n",
       " array([ 0.47486559,  0.52513438], dtype=float32),\n",
       " array([ 0.47369701,  0.52630293], dtype=float32),\n",
       " array([ 0.4732843,  0.5267157], dtype=float32),\n",
       " array([ 0.47494078,  0.52505922], dtype=float32),\n",
       " array([ 0.47487983,  0.5251202 ], dtype=float32),\n",
       " array([ 0.47489834,  0.52510172], dtype=float32),\n",
       " array([ 0.47502822,  0.52497178], dtype=float32),\n",
       " array([ 0.47498345,  0.52501655], dtype=float32),\n",
       " array([ 0.47491971,  0.52508032], dtype=float32),\n",
       " array([ 0.47495764,  0.52504236], dtype=float32),\n",
       " array([ 0.47483057,  0.52516937], dtype=float32),\n",
       " array([ 0.47493365,  0.52506644], dtype=float32),\n",
       " array([ 0.4749265 ,  0.52507353], dtype=float32),\n",
       " array([ 0.47493422,  0.52506584], dtype=float32),\n",
       " array([ 0.4749659 ,  0.52503413], dtype=float32),\n",
       " array([ 0.47496951,  0.52503043], dtype=float32),\n",
       " array([ 0.47496721,  0.52503276], dtype=float32),\n",
       " array([ 0.47483611,  0.52516389], dtype=float32),\n",
       " array([ 0.47494757,  0.52505243], dtype=float32),\n",
       " array([ 0.47491261,  0.52508736], dtype=float32),\n",
       " array([ 0.47494775,  0.52505219], dtype=float32),\n",
       " array([ 0.4749597 ,  0.52504027], dtype=float32),\n",
       " array([ 0.47474283,  0.52525717], dtype=float32),\n",
       " array([ 0.47489384,  0.52510619], dtype=float32),\n",
       " array([ 0.47499698,  0.52500302], dtype=float32),\n",
       " array([ 0.47487333,  0.5251267 ], dtype=float32),\n",
       " array([ 0.47307876,  0.52692121], dtype=float32),\n",
       " array([ 0.47486222,  0.52513772], dtype=float32),\n",
       " array([ 0.47490615,  0.52509391], dtype=float32),\n",
       " array([ 0.4748835,  0.5251165], dtype=float32),\n",
       " array([ 0.47494817,  0.52505183], dtype=float32),\n",
       " array([ 0.47491476,  0.52508521], dtype=float32),\n",
       " array([ 0.47495377,  0.52504623], dtype=float32),\n",
       " array([ 0.47460756,  0.52539253], dtype=float32),\n",
       " array([ 0.47496563,  0.52503443], dtype=float32),\n",
       " array([ 0.47494254,  0.52505749], dtype=float32),\n",
       " array([ 0.47497091,  0.52502906], dtype=float32),\n",
       " array([ 0.47472084,  0.52527916], dtype=float32),\n",
       " array([ 0.4749265 ,  0.52507353], dtype=float32),\n",
       " array([ 0.4749105,  0.5250895], dtype=float32),\n",
       " array([ 0.47498977,  0.52501023], dtype=float32),\n",
       " array([ 0.47489586,  0.52510417], dtype=float32),\n",
       " array([ 0.4748328 ,  0.52516717], dtype=float32),\n",
       " array([ 0.47494102,  0.52505904], dtype=float32),\n",
       " array([ 0.47495654,  0.52504349], dtype=float32),\n",
       " array([ 0.47489601,  0.52510393], dtype=float32),\n",
       " array([ 0.47506177,  0.52493829], dtype=float32),\n",
       " array([ 0.47507134,  0.52492869], dtype=float32),\n",
       " array([ 0.47491735,  0.52508271], dtype=float32),\n",
       " array([ 0.47488743,  0.52511257], dtype=float32),\n",
       " array([ 0.47474587,  0.52525413], dtype=float32),\n",
       " array([ 0.47243568,  0.52756429], dtype=float32),\n",
       " array([ 0.4751057 ,  0.52489424], dtype=float32),\n",
       " array([ 0.47394907,  0.52605098], dtype=float32),\n",
       " array([ 0.47495162,  0.52504832], dtype=float32),\n",
       " array([ 0.47484192,  0.52515805], dtype=float32),\n",
       " array([ 0.47492245,  0.52507758], dtype=float32),\n",
       " array([ 0.47177118,  0.52822876], dtype=float32),\n",
       " array([ 0.47490421,  0.5250957 ], dtype=float32),\n",
       " array([ 0.47488782,  0.52511221], dtype=float32),\n",
       " array([ 0.46916801,  0.53083205], dtype=float32),\n",
       " array([ 0.47494772,  0.52505225], dtype=float32),\n",
       " array([ 0.47490975,  0.52509028], dtype=float32),\n",
       " array([ 0.47493577,  0.52506423], dtype=float32),\n",
       " array([ 0.47484601,  0.52515405], dtype=float32),\n",
       " array([ 0.47486812,  0.52513188], dtype=float32),\n",
       " array([ 0.4749642 ,  0.52503586], dtype=float32),\n",
       " array([ 0.47492951,  0.52507043], dtype=float32),\n",
       " array([ 0.47492486,  0.52507514], dtype=float32),\n",
       " array([ 0.47492808,  0.52507186], dtype=float32),\n",
       " array([ 0.46892571,  0.53107429], dtype=float32),\n",
       " array([ 0.47218886,  0.52781123], dtype=float32),\n",
       " array([ 0.47493589,  0.52506411], dtype=float32),\n",
       " array([ 0.47377676,  0.52622324], dtype=float32),\n",
       " array([ 0.47455916,  0.52544087], dtype=float32),\n",
       " array([ 0.47486168,  0.52513832], dtype=float32),\n",
       " array([ 0.47488013,  0.52511984], dtype=float32),\n",
       " array([ 0.47492394,  0.52507603], dtype=float32),\n",
       " array([ 0.47483256,  0.52516747], dtype=float32),\n",
       " array([ 0.47480276,  0.52519727], dtype=float32),\n",
       " array([ 0.47493252,  0.52506745], dtype=float32),\n",
       " array([ 0.47503084,  0.52496916], dtype=float32),\n",
       " array([ 0.47491691,  0.52508307], dtype=float32),\n",
       " array([ 0.4747228 ,  0.52527726], dtype=float32),\n",
       " array([ 0.47465843,  0.52534151], dtype=float32),\n",
       " array([ 0.47501668,  0.52498329], dtype=float32),\n",
       " array([ 0.47486582,  0.52513415], dtype=float32),\n",
       " array([ 0.47494715,  0.52505285], dtype=float32),\n",
       " array([ 0.47503752,  0.52496243], dtype=float32),\n",
       " array([ 0.47497448,  0.52502549], dtype=float32),\n",
       " array([ 0.47472325,  0.52527678], dtype=float32),\n",
       " array([ 0.47485796,  0.52514201], dtype=float32),\n",
       " array([ 0.47495389,  0.52504611], dtype=float32),\n",
       " array([ 0.47486073,  0.52513927], dtype=float32),\n",
       " array([ 0.47494215,  0.52505785], dtype=float32),\n",
       " array([ 0.47421882,  0.52578121], dtype=float32),\n",
       " array([ 0.47822154,  0.52177846], dtype=float32),\n",
       " array([ 0.47497731,  0.52502263], dtype=float32),\n",
       " array([ 0.4748421 ,  0.52515787], dtype=float32),\n",
       " array([ 0.4678728 ,  0.53212726], dtype=float32),\n",
       " array([ 0.47500989,  0.5249902 ], dtype=float32),\n",
       " array([ 0.47495976,  0.52504021], dtype=float32),\n",
       " array([ 0.47496757,  0.52503234], dtype=float32),\n",
       " array([ 0.4748086 ,  0.52519149], dtype=float32),\n",
       " array([ 0.47489917,  0.52510083], dtype=float32),\n",
       " array([ 0.47484043,  0.52515948], dtype=float32),\n",
       " array([ 0.4747507 ,  0.52524924], dtype=float32),\n",
       " array([ 0.47497955,  0.52502048], dtype=float32),\n",
       " array([ 0.47483635,  0.52516365], dtype=float32),\n",
       " array([ 0.47496322,  0.52503675], dtype=float32),\n",
       " array([ 0.47495222,  0.52504784], dtype=float32),\n",
       " array([ 0.47387245,  0.52612752], dtype=float32),\n",
       " array([ 0.474996  ,  0.52500397], dtype=float32),\n",
       " array([ 0.47491238,  0.52508765], dtype=float32),\n",
       " array([ 0.47498423,  0.52501583], dtype=float32),\n",
       " array([ 0.47490826,  0.52509177], dtype=float32),\n",
       " array([ 0.47494298,  0.52505702], dtype=float32),\n",
       " array([ 0.47491509,  0.52508491], dtype=float32),\n",
       " array([ 0.47500107,  0.5249989 ], dtype=float32),\n",
       " array([ 0.47475943,  0.52524054], dtype=float32),\n",
       " array([ 0.47419313,  0.5258069 ], dtype=float32),\n",
       " array([ 0.47245029,  0.5275498 ], dtype=float32),\n",
       " array([ 0.47477081,  0.52522922], dtype=float32),\n",
       " array([ 0.4746933,  0.5253067], dtype=float32),\n",
       " array([ 0.47480154,  0.52519852], dtype=float32),\n",
       " array([ 0.47383913,  0.5261609 ], dtype=float32),\n",
       " array([ 0.47466153,  0.52533847], dtype=float32),\n",
       " array([ 0.47491097,  0.52508909], dtype=float32),\n",
       " array([ 0.47398987,  0.52601016], dtype=float32),\n",
       " array([ 0.47422764,  0.52577239], dtype=float32),\n",
       " array([ 0.47374508,  0.52625495], dtype=float32),\n",
       " array([ 0.47468117,  0.52531886], dtype=float32),\n",
       " array([ 0.47488236,  0.5251177 ], dtype=float32),\n",
       " array([ 0.46967372,  0.53032631], dtype=float32),\n",
       " array([ 0.47219163,  0.52780843], dtype=float32),\n",
       " array([ 0.47489026,  0.52510971], dtype=float32),\n",
       " array([ 0.47371221,  0.52628785], dtype=float32),\n",
       " array([ 0.47474578,  0.52525419], dtype=float32),\n",
       " array([ 0.4744491 ,  0.52555096], dtype=float32),\n",
       " array([ 0.47487971,  0.52512032], dtype=float32),\n",
       " array([ 0.47481239,  0.52518767], dtype=float32),\n",
       " array([ 0.474778,  0.525222], dtype=float32),\n",
       " array([ 0.47463816,  0.52536184], dtype=float32),\n",
       " array([ 0.47486934,  0.52513063], dtype=float32),\n",
       " array([ 0.47489426,  0.52510577], dtype=float32),\n",
       " array([ 0.47502723,  0.52497286], dtype=float32),\n",
       " array([ 0.47491241,  0.52508765], dtype=float32),\n",
       " array([ 0.47475067,  0.52524936], dtype=float32),\n",
       " array([ 0.47439519,  0.52560478], dtype=float32),\n",
       " array([ 0.47479579,  0.52520424], dtype=float32),\n",
       " array([ 0.47503638,  0.52496362], dtype=float32),\n",
       " array([ 0.47431242,  0.52568763], dtype=float32),\n",
       " array([ 0.47489625,  0.52510369], dtype=float32),\n",
       " array([ 0.47489667,  0.52510327], dtype=float32),\n",
       " array([ 0.47467145,  0.52532852], dtype=float32),\n",
       " array([ 0.47459742,  0.52540249], dtype=float32),\n",
       " array([ 0.47431213,  0.52568787], dtype=float32),\n",
       " array([ 0.47484443,  0.52515554], dtype=float32),\n",
       " array([ 0.47486678,  0.52513319], dtype=float32),\n",
       " array([ 0.47479957,  0.52520049], dtype=float32),\n",
       " array([ 0.47501117,  0.52498877], dtype=float32),\n",
       " array([ 0.47511461,  0.52488548], dtype=float32),\n",
       " array([ 0.47306338,  0.52693659], dtype=float32),\n",
       " array([ 0.47492355,  0.52507645], dtype=float32),\n",
       " array([ 0.47463718,  0.52536285], dtype=float32),\n",
       " array([ 0.47496244,  0.52503747], dtype=float32),\n",
       " array([ 0.47439429,  0.52560568], dtype=float32),\n",
       " array([ 0.47505319,  0.52494675], dtype=float32),\n",
       " array([ 0.47497326,  0.5250268 ], dtype=float32),\n",
       " array([ 0.47491315,  0.52508676], dtype=float32),\n",
       " array([ 0.47431433,  0.52568561], dtype=float32),\n",
       " array([ 0.47477424,  0.5252257 ], dtype=float32),\n",
       " array([ 0.47484091,  0.52515906], dtype=float32),\n",
       " array([ 0.47492042,  0.52507955], dtype=float32),\n",
       " array([ 0.4741618,  0.5258382], dtype=float32),\n",
       " array([ 0.47439307,  0.52560687], dtype=float32),\n",
       " array([ 0.47470832,  0.52529162], dtype=float32),\n",
       " array([ 0.46918136,  0.53081858], dtype=float32),\n",
       " array([ 0.47539866,  0.5246014 ], dtype=float32),\n",
       " array([ 0.47511393,  0.52488613], dtype=float32),\n",
       " array([ 0.47523388,  0.52476615], dtype=float32),\n",
       " array([ 0.47480571,  0.52519429], dtype=float32),\n",
       " array([ 0.47380388,  0.52619612], dtype=float32),\n",
       " array([ 0.47435373,  0.52564627], dtype=float32),\n",
       " array([ 0.47538823,  0.52461177], dtype=float32),\n",
       " array([ 0.4747369 ,  0.52526307], dtype=float32),\n",
       " array([ 0.47503775,  0.52496225], dtype=float32),\n",
       " array([ 0.47517172,  0.52482826], dtype=float32),\n",
       " array([ 0.47447589,  0.52552408], dtype=float32),\n",
       " array([ 0.47395542,  0.52604461], dtype=float32),\n",
       " array([ 0.47483698,  0.52516299], dtype=float32),\n",
       " array([ 0.47489199,  0.52510804], dtype=float32),\n",
       " array([ 0.47504175,  0.52495825], dtype=float32),\n",
       " array([ 0.47452557,  0.52547443], dtype=float32),\n",
       " array([ 0.47488821,  0.52511179], dtype=float32),\n",
       " array([ 0.47504023,  0.52495974], dtype=float32),\n",
       " array([ 0.47482094,  0.52517903], dtype=float32),\n",
       " array([ 0.47489575,  0.52510422], dtype=float32),\n",
       " array([ 0.47492021,  0.52507979], dtype=float32)]"
      ]
     },
     "execution_count": 10,
     "metadata": {},
     "output_type": "execute_result"
    }
   ],
   "source": [
    "predicted"
   ]
  },
  {
   "cell_type": "code",
   "execution_count": 21,
   "metadata": {},
   "outputs": [
    {
     "data": {
      "text/plain": [
       "False"
      ]
     },
     "execution_count": 21,
     "metadata": {},
     "output_type": "execute_result"
    }
   ],
   "source": [
    "[x.argmax() for x in (np.array(predicted)>.5)]"
   ]
  },
  {
   "cell_type": "code",
   "execution_count": 19,
   "metadata": {},
   "outputs": [
    {
     "data": {
      "text/plain": [
       "array([[ 0.50407392,  0.49592608],\n",
       "       [ 0.50407028,  0.49592966],\n",
       "       [ 0.50406283,  0.49593714],\n",
       "       [ 0.5040732 ,  0.49592674],\n",
       "       [ 0.50436753,  0.49563256],\n",
       "       [ 0.50406301,  0.49593693],\n",
       "       [ 0.50406873,  0.49593127],\n",
       "       [ 0.50408345,  0.49591655],\n",
       "       [ 0.50409758,  0.49590248],\n",
       "       [ 0.50408041,  0.49591953],\n",
       "       [ 0.50405908,  0.49594089],\n",
       "       [ 0.50407785,  0.49592215],\n",
       "       [ 0.50415111,  0.49584886],\n",
       "       [ 0.50410551,  0.49589443],\n",
       "       [ 0.50420302,  0.49579704],\n",
       "       [ 0.50406331,  0.49593678],\n",
       "       [ 0.50411808,  0.49588192],\n",
       "       [ 0.50408775,  0.49591225],\n",
       "       [ 0.50408483,  0.49591517],\n",
       "       [ 0.5042156 ,  0.49578443],\n",
       "       [ 0.50406957,  0.49593043],\n",
       "       [ 0.50405091,  0.49594912],\n",
       "       [ 0.5040437 ,  0.49595633],\n",
       "       [ 0.50412095,  0.49587899],\n",
       "       [ 0.5039019 ,  0.4960981 ],\n",
       "       [ 0.50410432,  0.49589571],\n",
       "       [ 0.50405812,  0.49594182],\n",
       "       [ 0.50403553,  0.4959645 ],\n",
       "       [ 0.50403583,  0.49596417],\n",
       "       [ 0.50406152,  0.49593851],\n",
       "       [ 0.50410652,  0.49589348],\n",
       "       [ 0.50415808,  0.49584189],\n",
       "       [ 0.50407261,  0.49592742],\n",
       "       [ 0.50406754,  0.49593246],\n",
       "       [ 0.50405955,  0.49594045],\n",
       "       [ 0.50421447,  0.49578553],\n",
       "       [ 0.50406295,  0.49593699],\n",
       "       [ 0.50406677,  0.49593315],\n",
       "       [ 0.50407553,  0.49592444],\n",
       "       [ 0.50406432,  0.49593565],\n",
       "       [ 0.50408572,  0.49591428]], dtype=float32)"
      ]
     },
     "execution_count": 19,
     "metadata": {},
     "output_type": "execute_result"
    }
   ],
   "source": [
    "predictions"
   ]
  },
  {
   "cell_type": "code",
   "execution_count": null,
   "metadata": {
    "collapsed": true
   },
   "outputs": [],
   "source": []
  }
 ],
 "metadata": {
  "kernelspec": {
   "display_name": "Python 2",
   "language": "python",
   "name": "python2"
  },
  "language_info": {
   "codemirror_mode": {
    "name": "ipython",
    "version": 2
   },
   "file_extension": ".py",
   "mimetype": "text/x-python",
   "name": "python",
   "nbconvert_exporter": "python",
   "pygments_lexer": "ipython2",
   "version": "2.7.10"
  }
 },
 "nbformat": 4,
 "nbformat_minor": 2
}
