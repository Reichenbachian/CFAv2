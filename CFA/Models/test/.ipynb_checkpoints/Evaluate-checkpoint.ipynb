{
 "cells": [
  {
   "cell_type": "code",
   "execution_count": 138,
   "metadata": {},
   "outputs": [],
   "source": [
    "import tensorflow\n",
    "import keras\n",
    "from keras.models import model_from_json\n",
    "import matplotlib.pyplot as plt\n",
    "import pandas as pd\n",
    "import os\n",
    "import idlsave\n",
    "import numpy as np\n",
    "from tqdm import tqdm_notebook as tqdm\n",
    "import re\n",
    "from sklearn.metrics import roc_curve, auc\n",
    "from scipy import interp\n",
    "from itertools import cycle\n",
    "import glob"
   ]
  },
  {
   "cell_type": "code",
   "execution_count": 2,
   "metadata": {
    "collapsed": true
   },
   "outputs": [],
   "source": [
    "model = model_from_json(open('model.json', 'rb').read())"
   ]
  },
  {
   "cell_type": "code",
   "execution_count": 116,
   "metadata": {
    "collapsed": true
   },
   "outputs": [],
   "source": [
    "root_path = '/Users/localhost/Desktop/Projects/Working/CFA/visioneering-deeplearning/experiments/planet_experiments/local_cache/original_k2_data/'\n",
    "data_path = root_path+'curves/'\n",
    "weights_path = 'weights/'\n",
    "label_path = root_path+'labels/joined_labels.csv'\n",
    "validation_campaigns = root_path+'Validation_Campaigns.csv'\n",
    "example_weights = 'weights/lstm_reattempt_weights.05-0.77.hdf5'\n",
    "roc_curves = 'out/'\n",
    "\n",
    "validation_campaigns = pd.read_csv(validation_campaigns)\n",
    "validation_campaigns = pd.DataFrame({0: ['c0']})\n",
    "labels = pd.read_csv(label_path)\n",
    "del labels['junk']\n",
    "id_from_filepath = re.compile('(?<=ep)[0-9]*(?=search)')"
   ]
  },
  {
   "cell_type": "code",
   "execution_count": 117,
   "metadata": {
    "collapsed": true
   },
   "outputs": [],
   "source": [
    "def plot_roc(tpr,fpr,roc_auc,label, saving_path):\n",
    "    if not os.path.exists(os.path.join(saving_path,'roc_curves')):\n",
    "        os.makedirs(os.path.join(saving_path,'roc_curves'))\n",
    "    plt.figure()    \n",
    "    plt.plot(fpr, tpr, color='darkorange',\n",
    "         lw=2, label='R OC curve (area = %0.2f)' % roc_auc)\n",
    "    plt.plot([0, 1], [0, 1], color='navy', lw=2, linestyle='--')\n",
    "    plt.xlim([0.0, 1.0])\n",
    "    plt.ylim([0.0, 1.05])\n",
    "    plt.xlabel('False Positive Rate')\n",
    "    plt.ylabel('True Positive Rate')\n",
    "    plt.title('Receiver operating characteristic example')\n",
    "    plt.legend(loc=\"lower right\")\n",
    "    plt.savefig(saving_path + 'roc_curves/' + label + '.png')"
   ]
  },
  {
   "cell_type": "code",
   "execution_count": 125,
   "metadata": {},
   "outputs": [],
   "source": [
    "def get_n_samples(n):\n",
    "    size = 1360\n",
    "    errors = 0\n",
    "    for campaign in validation_campaigns[0]:\n",
    "        files = [data_path+campaign+'/'+x for x in np.array(os.listdir(data_path+campaign))]\n",
    "        for fs in np.array_split(files, int(len(files)/n)):\n",
    "            X = []\n",
    "            y = []\n",
    "            for f in fs:\n",
    "                try:\n",
    "                    x = idlsave.read(f, verbose=False).k.f[0][:1360]\n",
    "                    assert len(x) == 1360\n",
    "                    p_id = id_from_filepath.findall(f)[0]\n",
    "                    label = labels[labels['planet_id'] == int(p_id)]['label'].tolist()[0].strip()\n",
    "                    y.append([label == 'C', label != 'C'])\n",
    "                    X.append(x.reshape((-1,1)))\n",
    "                except Exception as e:\n",
    "                    errors += 1\n",
    "            yield np.array(X), np.array(y)\n",
    "    print 'READ', len(X), 'Light curves'\n",
    "    print 'And the shape is', X.shape"
   ]
  },
  {
   "cell_type": "code",
   "execution_count": 132,
   "metadata": {},
   "outputs": [],
   "source": [
    "def get_roc(predicted, actual):\n",
    "    # Compute ROC curve and ROC area for each class\n",
    "    n_classes = 2\n",
    "    fpr = dict()\n",
    "    tpr = dict()\n",
    "    roc_auc = dict()\n",
    "    for i in range(n_classes):\n",
    "        fpr[i], tpr[i], _ = roc_curve(actual[:, i], predicted[:, i])\n",
    "        roc_auc[i] = auc(fpr[i], tpr[i])\n",
    "\n",
    "    # Compute micro-average ROC curve and ROC area\n",
    "    fpr[\"micro\"], tpr[\"micro\"], _ = roc_curve(actual.ravel(), predicted.ravel())\n",
    "    roc_auc[\"micro\"] = auc(fpr[\"micro\"], tpr[\"micro\"])\n",
    "    return tpr, fpr, roc_auc"
   ]
  },
  {
   "cell_type": "code",
   "execution_count": 134,
   "metadata": {},
   "outputs": [],
   "source": [
    "def plot_lc(tpr, fpr, roc_auc, title):\n",
    "    # Compute macro-average ROC curve and ROC area\n",
    "    lw = 2\n",
    "    # First aggregate all false positive rates\n",
    "    all_fpr = np.unique(np.concatenate([fpr[i] for i in range(n_classes)]))\n",
    "\n",
    "    # Then interpolate all ROC curves at this points\n",
    "    mean_tpr = np.zeros_like(all_fpr)\n",
    "    for i in range(n_classes):\n",
    "        mean_tpr += interp(all_fpr, fpr[i], tpr[i])\n",
    "\n",
    "    # Finally average it and compute AUC\n",
    "    mean_tpr /= n_classes\n",
    "\n",
    "    fpr[\"macro\"] = all_fpr\n",
    "    tpr[\"macro\"] = mean_tpr\n",
    "    roc_auc[\"macro\"] = auc(fpr[\"macro\"], tpr[\"macro\"])\n",
    "\n",
    "    # Plot all ROC curves\n",
    "    fig = plt.figure()\n",
    "    plt.plot(fpr[\"micro\"], tpr[\"micro\"],\n",
    "             label='micro-average ROC curve (area = {0:0.2f})'\n",
    "                   ''.format(roc_auc[\"micro\"]),\n",
    "             color='deeppink', linestyle=':', linewidth=4)\n",
    "\n",
    "    plt.plot(fpr[\"macro\"], tpr[\"macro\"],\n",
    "             label='macro-average ROC curve (area = {0:0.2f})'\n",
    "                   ''.format(roc_auc[\"macro\"]),\n",
    "             color='navy', linestyle=':', linewidth=4)\n",
    "\n",
    "    colors = cycle(['aqua', 'darkorange', 'cornflowerblue'])\n",
    "    for i, color in zip(range(n_classes), colors):\n",
    "        plt.plot(fpr[i], tpr[i], color=color, lw=2,\n",
    "                 label='ROC curve of class {0} (area = {1:0.2f})'\n",
    "                 ''.format(i, roc_auc[i]))\n",
    "\n",
    "    plt.plot([0, 1], [0, 1], 'k--', lw=2)\n",
    "    plt.xlim([0.0, 1.0])\n",
    "    plt.ylim([0.0, 1.05])\n",
    "    plt.xlabel('False Positive Rate')\n",
    "    plt.ylabel('True Positive Rate')\n",
    "    plt.title(title)\n",
    "    plt.legend(loc=\"lower right\")\n",
    "    fig.savefig(roc_curves+title+'.png')"
   ]
  },
  {
   "cell_type": "code",
   "execution_count": null,
   "metadata": {
    "scrolled": true
   },
   "outputs": [
    {
     "data": {
      "application/vnd.jupyter.widget-view+json": {
       "model_id": "33c0b104dfe54704aa5c90763fc98d0c",
       "version_major": 2,
       "version_minor": 0
      },
      "text/plain": [
       "A Jupyter Widget"
      ]
     },
     "metadata": {},
     "output_type": "display_data"
    },
    {
     "data": {
      "application/vnd.jupyter.widget-view+json": {
       "model_id": "79e6d4856bcc4c27a246f9d8da6e0dd0",
       "version_major": 2,
       "version_minor": 0
      },
      "text/plain": [
       "A Jupyter Widget"
      ]
     },
     "metadata": {},
     "output_type": "display_data"
    }
   ],
   "source": [
    "for f in tqdm(os.listdir(weights_path)):\n",
    "    model.load_weights(weights_path+f)\n",
    "    predicted = []\n",
    "    actual = []\n",
    "    batch_size = 1000\n",
    "    # Compute predicted in batches\n",
    "    for X, y in tqdm(get_n_samples(batch_size), total=int(len(glob.glob(data_path+'*/*'))/batch_size)):\n",
    "        predictions = model.predict(X)\n",
    "        predicted.extend(predictions)\n",
    "        actual.extend(y)\n",
    "    tpr, fpr, roc_auc = get_roc(np.array(predicted), np.array(actual))\n",
    "    plot_lc(tpr, fpr, roc_auc, f)"
   ]
  },
  {
   "cell_type": "code",
   "execution_count": null,
   "metadata": {
    "collapsed": true
   },
   "outputs": [],
   "source": []
  }
 ],
 "metadata": {
  "kernelspec": {
   "display_name": "Python 2",
   "language": "python",
   "name": "python2"
  },
  "language_info": {
   "codemirror_mode": {
    "name": "ipython",
    "version": 2
   },
   "file_extension": ".py",
   "mimetype": "text/x-python",
   "name": "python",
   "nbconvert_exporter": "python",
   "pygments_lexer": "ipython2",
   "version": "2.7.10"
  }
 },
 "nbformat": 4,
 "nbformat_minor": 2
}
